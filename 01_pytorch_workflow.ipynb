{
  "nbformat": 4,
  "nbformat_minor": 0,
  "metadata": {
    "colab": {
      "provenance": [],
      "gpuType": "T4"
    },
    "kernelspec": {
      "name": "python3",
      "display_name": "Python 3"
    },
    "language_info": {
      "name": "python"
    },
    "accelerator": "GPU"
  },
  "cells": [
    {
      "cell_type": "code",
      "execution_count": null,
      "metadata": {
        "colab": {
          "base_uri": "https://localhost:8080/",
          "height": 35
        },
        "id": "EvTTdVoIIJS2",
        "outputId": "e2f10dab-f884-45e3-e03f-2c65a632beed"
      },
      "outputs": [
        {
          "output_type": "execute_result",
          "data": {
            "text/plain": [
              "'2.5.1+cu121'"
            ],
            "application/vnd.google.colaboratory.intrinsic+json": {
              "type": "string"
            }
          },
          "metadata": {},
          "execution_count": 2
        }
      ],
      "source": [
        "import torch\n",
        "from torch import nn\n",
        "import matplotlib.pyplot as plt\n",
        "\n",
        "torch.__version__"
      ]
    },
    {
      "cell_type": "code",
      "source": [],
      "metadata": {
        "id": "Sp5mDF99ol-g"
      },
      "execution_count": null,
      "outputs": []
    },
    {
      "cell_type": "markdown",
      "source": [
        "Data prep step"
      ],
      "metadata": {
        "id": "ailS_vWYL-q7"
      }
    },
    {
      "cell_type": "code",
      "source": [
        "weight = 0.7\n",
        "bias = 0.3\n",
        "\n",
        "start = 0\n",
        "end = 1\n",
        "step = 0.02\n",
        "X = torch.arange(start, end, step).unsqueeze(dim=1)\n",
        "print(X.size())\n",
        "print(X)\n",
        "y = weight * X + bias"
      ],
      "metadata": {
        "colab": {
          "base_uri": "https://localhost:8080/"
        },
        "id": "zQ_WowUIMBbJ",
        "outputId": "af29bb13-baf1-47d6-e805-654ffcbfcaa7"
      },
      "execution_count": null,
      "outputs": [
        {
          "output_type": "stream",
          "name": "stdout",
          "text": [
            "torch.Size([50, 1])\n",
            "tensor([[0.0000],\n",
            "        [0.0200],\n",
            "        [0.0400],\n",
            "        [0.0600],\n",
            "        [0.0800],\n",
            "        [0.1000],\n",
            "        [0.1200],\n",
            "        [0.1400],\n",
            "        [0.1600],\n",
            "        [0.1800],\n",
            "        [0.2000],\n",
            "        [0.2200],\n",
            "        [0.2400],\n",
            "        [0.2600],\n",
            "        [0.2800],\n",
            "        [0.3000],\n",
            "        [0.3200],\n",
            "        [0.3400],\n",
            "        [0.3600],\n",
            "        [0.3800],\n",
            "        [0.4000],\n",
            "        [0.4200],\n",
            "        [0.4400],\n",
            "        [0.4600],\n",
            "        [0.4800],\n",
            "        [0.5000],\n",
            "        [0.5200],\n",
            "        [0.5400],\n",
            "        [0.5600],\n",
            "        [0.5800],\n",
            "        [0.6000],\n",
            "        [0.6200],\n",
            "        [0.6400],\n",
            "        [0.6600],\n",
            "        [0.6800],\n",
            "        [0.7000],\n",
            "        [0.7200],\n",
            "        [0.7400],\n",
            "        [0.7600],\n",
            "        [0.7800],\n",
            "        [0.8000],\n",
            "        [0.8200],\n",
            "        [0.8400],\n",
            "        [0.8600],\n",
            "        [0.8800],\n",
            "        [0.9000],\n",
            "        [0.9200],\n",
            "        [0.9400],\n",
            "        [0.9600],\n",
            "        [0.9800]])\n"
          ]
        }
      ]
    },
    {
      "cell_type": "code",
      "source": [
        "train_split = int(0.8 * len(X))\n",
        "X_train, y_train = X[:train_split], y[:train_split]\n",
        "X_test, y_test = X[train_split:], y[train_split:]\n",
        "\n",
        "len(X_train), len(y_train), len(X_test), len(y_test)"
      ],
      "metadata": {
        "colab": {
          "base_uri": "https://localhost:8080/"
        },
        "id": "I7OZObUpPsQw",
        "outputId": "3e656ca6-5e04-4e20-9537-bfef677fa374"
      },
      "execution_count": null,
      "outputs": [
        {
          "output_type": "execute_result",
          "data": {
            "text/plain": [
              "(40, 40, 10, 10)"
            ]
          },
          "metadata": {},
          "execution_count": 4
        }
      ]
    },
    {
      "cell_type": "code",
      "source": [
        "X_train, y_train"
      ],
      "metadata": {
        "colab": {
          "base_uri": "https://localhost:8080/"
        },
        "id": "KHBKnOPbROLj",
        "outputId": "da89a427-6d75-4ed2-b76b-5c6235d58f88"
      },
      "execution_count": null,
      "outputs": [
        {
          "output_type": "execute_result",
          "data": {
            "text/plain": [
              "(tensor([[0.0000],\n",
              "         [0.0200],\n",
              "         [0.0400],\n",
              "         [0.0600],\n",
              "         [0.0800],\n",
              "         [0.1000],\n",
              "         [0.1200],\n",
              "         [0.1400],\n",
              "         [0.1600],\n",
              "         [0.1800],\n",
              "         [0.2000],\n",
              "         [0.2200],\n",
              "         [0.2400],\n",
              "         [0.2600],\n",
              "         [0.2800],\n",
              "         [0.3000],\n",
              "         [0.3200],\n",
              "         [0.3400],\n",
              "         [0.3600],\n",
              "         [0.3800],\n",
              "         [0.4000],\n",
              "         [0.4200],\n",
              "         [0.4400],\n",
              "         [0.4600],\n",
              "         [0.4800],\n",
              "         [0.5000],\n",
              "         [0.5200],\n",
              "         [0.5400],\n",
              "         [0.5600],\n",
              "         [0.5800],\n",
              "         [0.6000],\n",
              "         [0.6200],\n",
              "         [0.6400],\n",
              "         [0.6600],\n",
              "         [0.6800],\n",
              "         [0.7000],\n",
              "         [0.7200],\n",
              "         [0.7400],\n",
              "         [0.7600],\n",
              "         [0.7800]]),\n",
              " tensor([[0.3000],\n",
              "         [0.3140],\n",
              "         [0.3280],\n",
              "         [0.3420],\n",
              "         [0.3560],\n",
              "         [0.3700],\n",
              "         [0.3840],\n",
              "         [0.3980],\n",
              "         [0.4120],\n",
              "         [0.4260],\n",
              "         [0.4400],\n",
              "         [0.4540],\n",
              "         [0.4680],\n",
              "         [0.4820],\n",
              "         [0.4960],\n",
              "         [0.5100],\n",
              "         [0.5240],\n",
              "         [0.5380],\n",
              "         [0.5520],\n",
              "         [0.5660],\n",
              "         [0.5800],\n",
              "         [0.5940],\n",
              "         [0.6080],\n",
              "         [0.6220],\n",
              "         [0.6360],\n",
              "         [0.6500],\n",
              "         [0.6640],\n",
              "         [0.6780],\n",
              "         [0.6920],\n",
              "         [0.7060],\n",
              "         [0.7200],\n",
              "         [0.7340],\n",
              "         [0.7480],\n",
              "         [0.7620],\n",
              "         [0.7760],\n",
              "         [0.7900],\n",
              "         [0.8040],\n",
              "         [0.8180],\n",
              "         [0.8320],\n",
              "         [0.8460]]))"
            ]
          },
          "metadata": {},
          "execution_count": 5
        }
      ]
    },
    {
      "cell_type": "code",
      "source": [
        "def plot_predictions(train_data=X_train,\n",
        "                     train_labels=y_train,\n",
        "                     test_data=X_test,\n",
        "                     test_labels=y_test,\n",
        "                     predictions=None):\n",
        "  \"\"\"\n",
        "  Plots training data, test data and compares predictions.\n",
        "  \"\"\"\n",
        "  plt.figure(figsize=(10, 7))\n",
        "\n",
        "  # Plot training data in blue\n",
        "  plt.scatter(train_data, train_labels, c=\"b\", s=4, label=\"Training data\")\n",
        "\n",
        "  # Plot test data in green\n",
        "  plt.scatter(test_data, test_labels, c=\"g\", s=4, label=\"Testing data\")\n",
        "\n",
        "  if predictions is not None:\n",
        "    # Plot the predictions in red (predictions were made on the test data)\n",
        "    plt.scatter(test_data, predictions, c=\"r\", s=4, label=\"Predictions\")\n",
        "\n",
        "  # Show the legend\n",
        "  plt.legend(prop={\"size\": 14});"
      ],
      "metadata": {
        "id": "TjjZ4JbsRhSf"
      },
      "execution_count": null,
      "outputs": []
    },
    {
      "cell_type": "code",
      "source": [
        "plot_predictions();"
      ],
      "metadata": {
        "id": "wXsGDaKySfyL",
        "outputId": "be5e1b8e-4ca2-4516-8f40-922014d18ff9",
        "colab": {
          "base_uri": "https://localhost:8080/",
          "height": 513
        }
      },
      "execution_count": null,
      "outputs": [
        {
          "output_type": "display_data",
          "data": {
            "text/plain": [
              "<Figure size 1000x700 with 1 Axes>"
            ],
            "image/png": "[encoded data removed]"
          },
          "metadata": {}
        }
      ]
    },
    {
      "cell_type": "code",
      "source": [
        "# Trying out some shitty codes\n",
        "print(torch.randn(1, requires_grad=True, dtype=torch.float))"
      ],
      "metadata": {
        "colab": {
          "base_uri": "https://localhost:8080/"
        },
        "id": "EpSXpZKFPgsi",
        "outputId": "acfcd9e3-0826-4b8b-a4b1-671c09a77b7c"
      },
      "execution_count": null,
      "outputs": [
        {
          "output_type": "stream",
          "name": "stdout",
          "text": [
            "tensor([-0.8285], requires_grad=True)\n"
          ]
        }
      ]
    },
    {
      "cell_type": "code",
      "source": [
        "torch.manual_seed(42)\n",
        "torch.randn(1)"
      ],
      "metadata": {
        "colab": {
          "base_uri": "https://localhost:8080/"
        },
        "id": "F_z6rp7QWaR2",
        "outputId": "7ce49e92-ff7f-4285-ed8a-54efc11364f6"
      },
      "execution_count": null,
      "outputs": [
        {
          "output_type": "execute_result",
          "data": {
            "text/plain": [
              "tensor([0.3367])"
            ]
          },
          "metadata": {},
          "execution_count": 9
        }
      ]
    },
    {
      "cell_type": "code",
      "source": [
        "class LinearRegressionModel(nn.Module):\n",
        "  def __init__(self):\n",
        "    super().__init__() # Initialize one nn module which is the superior module\n",
        "    self.weights = nn.Parameter(torch.randn(1, requires_grad=True, dtype=torch.float))\n",
        "    self.bias = nn.Parameter(torch.randn(1, requires_grad=True, dtype=torch.float))\n",
        "\n",
        "  # Forwarding method for defining computation and inference method for the model???\n",
        "  def forward(self, x: torch.Tensor) -> torch.Tensor:\n",
        "    return self.weights * x + self.bias\n"
      ],
      "metadata": {
        "id": "49vapImYSlPB"
      },
      "execution_count": null,
      "outputs": []
    },
    {
      "cell_type": "code",
      "source": [
        "torch.manual_seed(42)\n",
        "\n",
        "model_0 = LinearRegressionModel()\n",
        "\n",
        "list(model_0.parameters())"
      ],
      "metadata": {
        "colab": {
          "base_uri": "https://localhost:8080/"
        },
        "id": "knzK0kr0Vta9",
        "outputId": "1e7f5074-a942-43fe-e53b-30ac4315b097"
      },
      "execution_count": null,
      "outputs": [
        {
          "output_type": "execute_result",
          "data": {
            "text/plain": [
              "[Parameter containing:\n",
              " tensor([0.3367], requires_grad=True),\n",
              " Parameter containing:\n",
              " tensor([0.1288], requires_grad=True)]"
            ]
          },
          "metadata": {},
          "execution_count": 28
        }
      ]
    },
    {
      "cell_type": "code",
      "source": [
        "model_0.state_dict()"
      ],
      "metadata": {
        "colab": {
          "base_uri": "https://localhost:8080/"
        },
        "id": "Wlzt536ZW4yy",
        "outputId": "2be09f79-dec3-4574-b5b3-4b45a00aaf77"
      },
      "execution_count": null,
      "outputs": [
        {
          "output_type": "execute_result",
          "data": {
            "text/plain": [
              "OrderedDict([('weights', tensor([0.3367])), ('bias', tensor([0.1288]))])"
            ]
          },
          "metadata": {},
          "execution_count": 29
        }
      ]
    },
    {
      "cell_type": "code",
      "source": [
        "with torch.inference_mode():\n",
        "  y_preds = model_0(X_test)\n",
        "\n",
        "y_preds"
      ],
      "metadata": {
        "colab": {
          "base_uri": "https://localhost:8080/"
        },
        "id": "l_PVOjwdXrqs",
        "outputId": "c06e7fe6-2998-4152-8354-57fddd829af2"
      },
      "execution_count": null,
      "outputs": [
        {
          "output_type": "execute_result",
          "data": {
            "text/plain": [
              "tensor([[0.3982],\n",
              "        [0.4049],\n",
              "        [0.4116],\n",
              "        [0.4184],\n",
              "        [0.4251],\n",
              "        [0.4318],\n",
              "        [0.4386],\n",
              "        [0.4453],\n",
              "        [0.4520],\n",
              "        [0.4588]])"
            ]
          },
          "metadata": {},
          "execution_count": 30
        }
      ]
    },
    {
      "cell_type": "code",
      "source": [
        "plot_predictions(predictions=y_preds)"
      ],
      "metadata": {
        "colab": {
          "base_uri": "https://localhost:8080/",
          "height": 513
        },
        "id": "o7-d8HBUZgsS",
        "outputId": "afb3f1f1-040d-4a87-ea22-31f47a49d65a"
      },
      "execution_count": null,
      "outputs": [
        {
          "output_type": "display_data",
          "data": {
            "text/plain": [
              "<Figure size 1000x700 with 1 Axes>"
            ],
            "image/png": "[encoded data removed]"
          },
          "metadata": {}
        }
      ]
    },
    {
      "cell_type": "code",
      "source": [
        "loss_fn = nn.L1Loss()\n",
        "\n",
        "optimizer = torch.optim.SGD(params=model_0.parameters(), lr=0.0001)"
      ],
      "metadata": {
        "id": "NTScoMLpZ8uv"
      },
      "execution_count": null,
      "outputs": []
    },
    {
      "cell_type": "code",
      "source": [
        "parameter_0 = [] # Should approach 0.7\n",
        "parameter_1 = [] # Should approach 0.3\n",
        "losses = []\n",
        "test_losses = []"
      ],
      "metadata": {
        "id": "4nwKDwoR6o7k"
      },
      "execution_count": null,
      "outputs": []
    },
    {
      "cell_type": "code",
      "source": [
        "epochs = 20000\n",
        "\n",
        "\n",
        "# 0. Loop through the data\n",
        "for epoch in range(epochs):\n",
        "  model_0.train() # Set to training mode\n",
        "\n",
        "  # 1. Forward pass\n",
        "  y_pred = model_0(X_train)\n",
        "\n",
        "  # 2. Calculate the loss\n",
        "  loss = loss_fn(y_pred, y_train)\n",
        "\n",
        "  # 3. Optimizer zero grad\n",
        "  optimizer.zero_grad()\n",
        "\n",
        "  # 4. Perform backpropagation on the loss with respect to the parameters of the model\n",
        "  loss.backward() ## Confused part for me, will do SC!\n",
        "\n",
        "  # 5. Step the optimizer (perform gradient descent)\n",
        "  optimizer.step()\n",
        "\n",
        "  model_0.eval() # Turns off gradient tracking, make this an habit\n",
        "\n",
        "  with torch.inference_mode():\n",
        "    # Print and store parameters as float32\n",
        "    # I added the following for sanity check thingy\n",
        "    params = list(model_0.parameters())  # Convert parameters to a list\n",
        "\n",
        "    # Access and print specific parameters\n",
        "    # print(\"Parameter 0:\", params[0])  # Print the first parameter\n",
        "    # print(\"Parameter 1:\", params[1])  # Print the second parameter\n",
        "\n",
        "    # Convert parameters to float32 and store as NumPy arrays or tensors\n",
        "    param_0_float32 = params[0].detach().numpy().astype('float32')  # First parameter as float32\n",
        "    param_1_float32 = params[1].detach().numpy().astype('float32')  # Second parameter as float32\n",
        "\n",
        "    parameter_0.append(param_0_float32)\n",
        "    parameter_1.append(param_1_float32)\n",
        "\n",
        "    # The following is standard I would say\n",
        "    test_pred = model_0(X_test)\n",
        "    test_loss = loss_fn(test_pred, y_test)\n",
        "\n",
        "    # Recording all losses\n",
        "    losses.append(loss.numpy().astype('float32'))\n",
        "    test_losses.append(test_loss.numpy().astype('float32'))\n",
        "\n",
        "  if epoch % 100 == 0:\n",
        "    print(f\"Epoch: {epoch} | Loss: {loss} | Test Loss: {test_loss}\")\n"
      ],
      "metadata": {
        "colab": {
          "base_uri": "https://localhost:8080/"
        },
        "id": "J0bevJx1p4zx",
        "outputId": "4c03af8d-a9de-4ac3-cb00-0cbe03a8b8d9"
      },
      "execution_count": null,
      "outputs": [
        {
          "output_type": "stream",
          "name": "stdout",
          "text": [
            "Epoch: 0 | Loss: 0.31288138031959534 | Test Loss: 0.4944015145301819\n",
            "Epoch: 100 | Loss: 0.30135971307754517 | Test Loss: 0.4809292256832123\n",
            "Epoch: 200 | Loss: 0.28983813524246216 | Test Loss: 0.467457115650177\n",
            "Epoch: 300 | Loss: 0.27831655740737915 | Test Loss: 0.45398491621017456\n",
            "Epoch: 400 | Loss: 0.26679491996765137 | Test Loss: 0.4405128061771393\n",
            "Epoch: 500 | Loss: 0.2552732825279236 | Test Loss: 0.42704063653945923\n",
            "Epoch: 600 | Loss: 0.24375171959400177 | Test Loss: 0.4135684370994568\n",
            "Epoch: 700 | Loss: 0.23223009705543518 | Test Loss: 0.40009626746177673\n",
            "Epoch: 800 | Loss: 0.2207084596157074 | Test Loss: 0.3866240978240967\n",
            "Epoch: 900 | Loss: 0.2091868668794632 | Test Loss: 0.373151957988739\n",
            "Epoch: 1000 | Loss: 0.1976652592420578 | Test Loss: 0.3596797585487366\n",
            "Epoch: 1100 | Loss: 0.1861436665058136 | Test Loss: 0.34620755910873413\n",
            "Epoch: 1200 | Loss: 0.174622043967247 | Test Loss: 0.33273541927337646\n",
            "Epoch: 1300 | Loss: 0.16310177743434906 | Test Loss: 0.31926456093788147\n",
            "Epoch: 1400 | Loss: 0.15158167481422424 | Test Loss: 0.3057939112186432\n",
            "Epoch: 1500 | Loss: 0.14006154239177704 | Test Loss: 0.2923232614994049\n",
            "Epoch: 1600 | Loss: 0.12854143977165222 | Test Loss: 0.27885255217552185\n",
            "Epoch: 1700 | Loss: 0.11702130734920502 | Test Loss: 0.2653818726539612\n",
            "Epoch: 1800 | Loss: 0.10660099983215332 | Test Loss: 0.25249215960502625\n",
            "Epoch: 1900 | Loss: 0.09753505140542984 | Test Loss: 0.24035079777240753\n",
            "Epoch: 2000 | Loss: 0.08982332795858383 | Test Loss: 0.22905269265174866\n",
            "Epoch: 2100 | Loss: 0.08315424621105194 | Test Loss: 0.21845892071723938\n",
            "Epoch: 2200 | Loss: 0.077398382127285 | Test Loss: 0.20854797959327698\n",
            "Epoch: 2300 | Loss: 0.0725419670343399 | Test Loss: 0.19938364624977112\n",
            "Epoch: 2400 | Loss: 0.06839941442012787 | Test Loss: 0.19087259471416473\n",
            "Epoch: 2500 | Loss: 0.06485690176486969 | Test Loss: 0.1829657256603241\n",
            "Epoch: 2600 | Loss: 0.0618346631526947 | Test Loss: 0.17563997209072113\n",
            "Epoch: 2700 | Loss: 0.05924928933382034 | Test Loss: 0.16884835064411163\n",
            "Epoch: 2800 | Loss: 0.057051174342632294 | Test Loss: 0.1625724881887436\n",
            "Epoch: 2900 | Loss: 0.055229149758815765 | Test Loss: 0.1568741500377655\n",
            "Epoch: 3000 | Loss: 0.05364571884274483 | Test Loss: 0.15158791840076447\n",
            "Epoch: 3100 | Loss: 0.05223175883293152 | Test Loss: 0.14660246670246124\n",
            "Epoch: 3200 | Loss: 0.051102787256240845 | Test Loss: 0.14219963550567627\n",
            "Epoch: 3300 | Loss: 0.05006207898259163 | Test Loss: 0.13802221417427063\n",
            "Epoch: 3400 | Loss: 0.04919227212667465 | Test Loss: 0.1342633068561554\n",
            "Epoch: 3500 | Loss: 0.04837886989116669 | Test Loss: 0.13068607449531555\n",
            "Epoch: 3600 | Loss: 0.047717221081256866 | Test Loss: 0.1275760382413864\n",
            "Epoch: 3700 | Loss: 0.047055553644895554 | Test Loss: 0.12446601688861847\n",
            "Epoch: 3800 | Loss: 0.04650237038731575 | Test Loss: 0.12181787192821503\n",
            "Epoch: 3900 | Loss: 0.04599762335419655 | Test Loss: 0.11936767399311066\n",
            "Epoch: 4000 | Loss: 0.045492880046367645 | Test Loss: 0.11691746860742569\n",
            "Epoch: 4100 | Loss: 0.04500844329595566 | Test Loss: 0.11460139602422714\n",
            "Epoch: 4200 | Loss: 0.04460849612951279 | Test Loss: 0.11282160133123398\n",
            "Epoch: 4300 | Loss: 0.044208552688360214 | Test Loss: 0.11104185879230499\n",
            "Epoch: 4400 | Loss: 0.04380860924720764 | Test Loss: 0.10926208645105362\n",
            "Epoch: 4500 | Loss: 0.043408654630184174 | Test Loss: 0.10748233646154404\n",
            "Epoch: 4600 | Loss: 0.0430087074637413 | Test Loss: 0.10570255666971207\n",
            "Epoch: 4700 | Loss: 0.0426374115049839 | Test Loss: 0.10430946201086044\n",
            "Epoch: 4800 | Loss: 0.042288366705179214 | Test Loss: 0.10320808738470078\n",
            "Epoch: 4900 | Loss: 0.04193932190537453 | Test Loss: 0.10210671275854111\n",
            "Epoch: 5000 | Loss: 0.04159027710556984 | Test Loss: 0.10100533813238144\n",
            "Epoch: 5100 | Loss: 0.04124123230576515 | Test Loss: 0.09990397095680237\n",
            "Epoch: 5200 | Loss: 0.040892187505960464 | Test Loss: 0.0988025963306427\n",
            "Epoch: 5300 | Loss: 0.04054314270615578 | Test Loss: 0.09770122170448303\n",
            "Epoch: 5400 | Loss: 0.04019409790635109 | Test Loss: 0.09659984707832336\n",
            "Epoch: 5500 | Loss: 0.039845060557127 | Test Loss: 0.0954984799027443\n",
            "Epoch: 5600 | Loss: 0.03949601575732231 | Test Loss: 0.09439710527658463\n",
            "Epoch: 5700 | Loss: 0.039146970957517624 | Test Loss: 0.09329573065042496\n",
            "Epoch: 5800 | Loss: 0.038797926157712936 | Test Loss: 0.09219435602426529\n",
            "Epoch: 5900 | Loss: 0.03844888135790825 | Test Loss: 0.09109298139810562\n",
            "Epoch: 6000 | Loss: 0.03809983655810356 | Test Loss: 0.08999161422252655\n",
            "Epoch: 6100 | Loss: 0.037750791758298874 | Test Loss: 0.08889023959636688\n",
            "Epoch: 6200 | Loss: 0.037401746958494186 | Test Loss: 0.08778886497020721\n",
            "Epoch: 6300 | Loss: 0.0370527021586895 | Test Loss: 0.08668749034404755\n",
            "Epoch: 6400 | Loss: 0.036708004772663116 | Test Loss: 0.08582980185747147\n",
            "Epoch: 6500 | Loss: 0.036364395171403885 | Test Loss: 0.0850236564874649\n",
            "Epoch: 6600 | Loss: 0.03602086380124092 | Test Loss: 0.08422093093395233\n",
            "Epoch: 6700 | Loss: 0.0356772355735302 | Test Loss: 0.08341478556394577\n",
            "Epoch: 6800 | Loss: 0.035333652049303055 | Test Loss: 0.08261550962924957\n",
            "Epoch: 6900 | Loss: 0.03499007970094681 | Test Loss: 0.0818093791604042\n",
            "Epoch: 7000 | Loss: 0.03464643657207489 | Test Loss: 0.08100324124097824\n",
            "Epoch: 7100 | Loss: 0.034302908927202225 | Test Loss: 0.08020396530628204\n",
            "Epoch: 7200 | Loss: 0.033959291875362396 | Test Loss: 0.07940122485160828\n",
            "Epoch: 7300 | Loss: 0.03361569717526436 | Test Loss: 0.07859508693218231\n",
            "Epoch: 7400 | Loss: 0.033272117376327515 | Test Loss: 0.07779236137866974\n",
            "Epoch: 7500 | Loss: 0.0329284742474556 | Test Loss: 0.07698620855808258\n",
            "Epoch: 7600 | Loss: 0.03258493170142174 | Test Loss: 0.07618694752454758\n",
            "Epoch: 7700 | Loss: 0.03224131092429161 | Test Loss: 0.07538080215454102\n",
            "Epoch: 7800 | Loss: 0.031897708773612976 | Test Loss: 0.07458152621984482\n",
            "Epoch: 7900 | Loss: 0.03155415505170822 | Test Loss: 0.07377538084983826\n",
            "Epoch: 8000 | Loss: 0.03121051751077175 | Test Loss: 0.07296924293041229\n",
            "Epoch: 8100 | Loss: 0.03086693212389946 | Test Loss: 0.07216650992631912\n",
            "Epoch: 8200 | Loss: 0.030523359775543213 | Test Loss: 0.07136723399162292\n",
            "Epoch: 8300 | Loss: 0.030179748311638832 | Test Loss: 0.07056450098752975\n",
            "Epoch: 8400 | Loss: 0.029836196452379227 | Test Loss: 0.06975836306810379\n",
            "Epoch: 8500 | Loss: 0.02949255146086216 | Test Loss: 0.06895221769809723\n",
            "Epoch: 8600 | Loss: 0.029149001464247704 | Test Loss: 0.06815295666456223\n",
            "Epoch: 8700 | Loss: 0.02880539931356907 | Test Loss: 0.06734682619571686\n",
            "Epoch: 8800 | Loss: 0.028461787849664688 | Test Loss: 0.06654752790927887\n",
            "Epoch: 8900 | Loss: 0.02811816893517971 | Test Loss: 0.0657413974404335\n",
            "Epoch: 9000 | Loss: 0.027774646878242493 | Test Loss: 0.06493865698575974\n",
            "Epoch: 9100 | Loss: 0.02743101678788662 | Test Loss: 0.06413251906633377\n",
            "Epoch: 9200 | Loss: 0.027087431401014328 | Test Loss: 0.06332977861166\n",
            "Epoch: 9300 | Loss: 0.0267438143491745 | Test Loss: 0.062530517578125\n",
            "Epoch: 9400 | Loss: 0.02640027366578579 | Test Loss: 0.061724383383989334\n",
            "Epoch: 9500 | Loss: 0.02605663239955902 | Test Loss: 0.060918234288692474\n",
            "Epoch: 9600 | Loss: 0.02571307122707367 | Test Loss: 0.06011895090341568\n",
            "Epoch: 9700 | Loss: 0.025369470939040184 | Test Loss: 0.05931280925869942\n",
            "Epoch: 9800 | Loss: 0.02502589300274849 | Test Loss: 0.05851009488105774\n",
            "Epoch: 9900 | Loss: 0.02468224987387657 | Test Loss: 0.057703934609889984\n",
            "Epoch: 10000 | Loss: 0.024338718503713608 | Test Loss: 0.056904666125774384\n",
            "Epoch: 10100 | Loss: 0.02399510145187378 | Test Loss: 0.05610193684697151\n",
            "Epoch: 10200 | Loss: 0.02365151047706604 | Test Loss: 0.05529579520225525\n",
            "Epoch: 10300 | Loss: 0.023307884112000465 | Test Loss: 0.05449651926755905\n",
            "Epoch: 10400 | Loss: 0.02296435460448265 | Test Loss: 0.05369038134813309\n",
            "Epoch: 10500 | Loss: 0.022620711475610733 | Test Loss: 0.052884239703416824\n",
            "Epoch: 10600 | Loss: 0.022277140989899635 | Test Loss: 0.052084971219301224\n",
            "Epoch: 10700 | Loss: 0.021933527663350105 | Test Loss: 0.051282234489917755\n",
            "Epoch: 10800 | Loss: 0.021589968353509903 | Test Loss: 0.050476085394620895\n",
            "Epoch: 10900 | Loss: 0.021246328949928284 | Test Loss: 0.049669958651065826\n",
            "Epoch: 11000 | Loss: 0.02090274728834629 | Test Loss: 0.04886721819639206\n",
            "Epoch: 11100 | Loss: 0.020559173077344894 | Test Loss: 0.04806794598698616\n",
            "Epoch: 11200 | Loss: 0.020215589553117752 | Test Loss: 0.0472618043422699\n",
            "Epoch: 11300 | Loss: 0.01987195387482643 | Test Loss: 0.0464625246822834\n",
            "Epoch: 11400 | Loss: 0.019528424367308617 | Test Loss: 0.045656394213438034\n",
            "Epoch: 11500 | Loss: 0.019184792414307594 | Test Loss: 0.04485025256872177\n",
            "Epoch: 11600 | Loss: 0.0188412107527256 | Test Loss: 0.0440475158393383\n",
            "Epoch: 11700 | Loss: 0.018497595563530922 | Test Loss: 0.043248243629932404\n",
            "Epoch: 11800 | Loss: 0.01815398409962654 | Test Loss: 0.04244210198521614\n",
            "Epoch: 11900 | Loss: 0.017810454592108727 | Test Loss: 0.04163937643170357\n",
            "Epoch: 12000 | Loss: 0.017466822639107704 | Test Loss: 0.040833234786987305\n",
            "Epoch: 12100 | Loss: 0.01712324097752571 | Test Loss: 0.04003395512700081\n",
            "Epoch: 12200 | Loss: 0.016779668629169464 | Test Loss: 0.03922782093286514\n",
            "Epoch: 12300 | Loss: 0.016436023637652397 | Test Loss: 0.03842168301343918\n",
            "Epoch: 12400 | Loss: 0.01609249785542488 | Test Loss: 0.037622399628162384\n",
            "Epoch: 12500 | Loss: 0.0157488826662302 | Test Loss: 0.03681967407464981\n",
            "Epoch: 12600 | Loss: 0.015405287966132164 | Test Loss: 0.03601353242993355\n",
            "Epoch: 12700 | Loss: 0.015061704441905022 | Test Loss: 0.03521079570055008\n",
            "Epoch: 12800 | Loss: 0.01471805851906538 | Test Loss: 0.034404654055833817\n",
            "Epoch: 12900 | Loss: 0.014374524354934692 | Test Loss: 0.033605385571718216\n",
            "Epoch: 13000 | Loss: 0.014030903577804565 | Test Loss: 0.032799236476421356\n",
            "Epoch: 13100 | Loss: 0.013687300495803356 | Test Loss: 0.031999967992305756\n",
            "Epoch: 13200 | Loss: 0.013343746773898602 | Test Loss: 0.031193822622299194\n",
            "Epoch: 13300 | Loss: 0.013000110164284706 | Test Loss: 0.030387694016098976\n",
            "Epoch: 13400 | Loss: 0.012656524777412415 | Test Loss: 0.02958495542407036\n",
            "Epoch: 13500 | Loss: 0.012312949635088444 | Test Loss: 0.028785670176148415\n",
            "Epoch: 13600 | Loss: 0.011969337239861488 | Test Loss: 0.027982955798506737\n",
            "Epoch: 13700 | Loss: 0.011625783517956734 | Test Loss: 0.02717679738998413\n",
            "Epoch: 13800 | Loss: 0.01128214318305254 | Test Loss: 0.026370663195848465\n",
            "Epoch: 13900 | Loss: 0.010938594117760658 | Test Loss: 0.02557138167321682\n",
            "Epoch: 14000 | Loss: 0.010594984516501427 | Test Loss: 0.024765247479081154\n",
            "Epoch: 14100 | Loss: 0.01025137584656477 | Test Loss: 0.023965973407030106\n",
            "Epoch: 14200 | Loss: 0.009907763451337814 | Test Loss: 0.02315983735024929\n",
            "Epoch: 14300 | Loss: 0.009564236737787724 | Test Loss: 0.022357095032930374\n",
            "Epoch: 14400 | Loss: 0.009220604784786701 | Test Loss: 0.02155095897614956\n",
            "Epoch: 14500 | Loss: 0.008877020329236984 | Test Loss: 0.020748233422636986\n",
            "Epoch: 14600 | Loss: 0.008533405140042305 | Test Loss: 0.019948959350585938\n",
            "Epoch: 14700 | Loss: 0.008189864456653595 | Test Loss: 0.019142817705869675\n",
            "Epoch: 14800 | Loss: 0.007846221327781677 | Test Loss: 0.01833667792379856\n",
            "Epoch: 14900 | Loss: 0.007502660155296326 | Test Loss: 0.017537403851747513\n",
            "Epoch: 15000 | Loss: 0.0071590617299079895 | Test Loss: 0.01673126220703125\n",
            "Epoch: 15100 | Loss: 0.006815481930971146 | Test Loss: 0.01592853106558323\n",
            "Epoch: 15200 | Loss: 0.0064718397334218025 | Test Loss: 0.015122383832931519\n",
            "Epoch: 15300 | Loss: 0.006128307431936264 | Test Loss: 0.014323120936751366\n",
            "Epoch: 15400 | Loss: 0.005784692708402872 | Test Loss: 0.013520377688109875\n",
            "Epoch: 15500 | Loss: 0.005441098473966122 | Test Loss: 0.012714231386780739\n",
            "Epoch: 15600 | Loss: 0.0050974758341908455 | Test Loss: 0.011914962902665138\n",
            "Epoch: 15700 | Loss: 0.004753944929689169 | Test Loss: 0.011108827777206898\n",
            "Epoch: 15800 | Loss: 0.004410300403833389 | Test Loss: 0.010302680544555187\n",
            "Epoch: 15900 | Loss: 0.004066733177751303 | Test Loss: 0.009503406472504139\n",
            "Epoch: 16000 | Loss: 0.0037231191527098417 | Test Loss: 0.008700674399733543\n",
            "Epoch: 16100 | Loss: 0.003379557281732559 | Test Loss: 0.007894533686339855\n",
            "Epoch: 16200 | Loss: 0.0030359209049493074 | Test Loss: 0.007088399026542902\n",
            "Epoch: 16300 | Loss: 0.002692336682230234 | Test Loss: 0.006285655312240124\n",
            "Epoch: 16400 | Loss: 0.0023487613070756197 | Test Loss: 0.005486386828124523\n",
            "Epoch: 16500 | Loss: 0.002005182206630707 | Test Loss: 0.0046802400611341\n",
            "Epoch: 16600 | Loss: 0.0016615435015410185 | Test Loss: 0.0038809715770184994\n",
            "Epoch: 16700 | Loss: 0.0013180166715756059 | Test Loss: 0.0030748366843909025\n",
            "Epoch: 16800 | Loss: 0.0009743824484758079 | Test Loss: 0.002268678043037653\n",
            "Epoch: 16900 | Loss: 0.0006308018928393722 | Test Loss: 0.001465964363887906\n",
            "Epoch: 17000 | Loss: 0.00028718262910842896 | Test Loss: 0.0006666779518127441\n",
            "Epoch: 17100 | Loss: 6.57841592328623e-05 | Test Loss: 3.293156623840332e-05\n",
            "Epoch: 17200 | Loss: 6.57841592328623e-05 | Test Loss: 3.293156623840332e-05\n",
            "Epoch: 17300 | Loss: 6.57841592328623e-05 | Test Loss: 3.293156623840332e-05\n",
            "Epoch: 17400 | Loss: 6.57841592328623e-05 | Test Loss: 3.293156623840332e-05\n",
            "Epoch: 17500 | Loss: 6.57841592328623e-05 | Test Loss: 3.293156623840332e-05\n",
            "Epoch: 17600 | Loss: 6.57841592328623e-05 | Test Loss: 3.293156623840332e-05\n",
            "Epoch: 17700 | Loss: 6.57841592328623e-05 | Test Loss: 3.293156623840332e-05\n",
            "Epoch: 17800 | Loss: 6.57841592328623e-05 | Test Loss: 3.293156623840332e-05\n",
            "Epoch: 17900 | Loss: 6.57841592328623e-05 | Test Loss: 3.293156623840332e-05\n",
            "Epoch: 18000 | Loss: 6.57841592328623e-05 | Test Loss: 3.293156623840332e-05\n",
            "Epoch: 18100 | Loss: 6.57841592328623e-05 | Test Loss: 3.293156623840332e-05\n",
            "Epoch: 18200 | Loss: 6.57841592328623e-05 | Test Loss: 3.293156623840332e-05\n",
            "Epoch: 18300 | Loss: 6.57841592328623e-05 | Test Loss: 3.293156623840332e-05\n",
            "Epoch: 18400 | Loss: 6.57841592328623e-05 | Test Loss: 3.293156623840332e-05\n",
            "Epoch: 18500 | Loss: 6.57841592328623e-05 | Test Loss: 3.293156623840332e-05\n",
            "Epoch: 18600 | Loss: 6.57841592328623e-05 | Test Loss: 3.293156623840332e-05\n",
            "Epoch: 18700 | Loss: 6.57841592328623e-05 | Test Loss: 3.293156623840332e-05\n",
            "Epoch: 18800 | Loss: 6.57841592328623e-05 | Test Loss: 3.293156623840332e-05\n",
            "Epoch: 18900 | Loss: 6.57841592328623e-05 | Test Loss: 3.293156623840332e-05\n",
            "Epoch: 19000 | Loss: 6.57841592328623e-05 | Test Loss: 3.293156623840332e-05\n",
            "Epoch: 19100 | Loss: 6.57841592328623e-05 | Test Loss: 3.293156623840332e-05\n",
            "Epoch: 19200 | Loss: 6.57841592328623e-05 | Test Loss: 3.293156623840332e-05\n",
            "Epoch: 19300 | Loss: 6.57841592328623e-05 | Test Loss: 3.293156623840332e-05\n",
            "Epoch: 19400 | Loss: 6.57841592328623e-05 | Test Loss: 3.293156623840332e-05\n",
            "Epoch: 19500 | Loss: 6.57841592328623e-05 | Test Loss: 3.293156623840332e-05\n",
            "Epoch: 19600 | Loss: 6.57841592328623e-05 | Test Loss: 3.293156623840332e-05\n",
            "Epoch: 19700 | Loss: 6.57841592328623e-05 | Test Loss: 3.293156623840332e-05\n",
            "Epoch: 19800 | Loss: 6.57841592328623e-05 | Test Loss: 3.293156623840332e-05\n",
            "Epoch: 19900 | Loss: 6.57841592328623e-05 | Test Loss: 3.293156623840332e-05\n"
          ]
        }
      ]
    },
    {
      "cell_type": "code",
      "source": [
        "# Dealing with saved model\n",
        "loaded_state_dict = torch.load('models/01_pytorch_workflow_model_0.pth')\n",
        "print(loaded_state_dict)\n",
        "\n",
        "loaded_model = LinearRegressionModel()\n",
        "loaded_model.load_state_dict(loaded_state_dict)"
      ],
      "metadata": {
        "colab": {
          "base_uri": "https://localhost:8080/"
        },
        "id": "fXFB7ZDgrBH-",
        "outputId": "755669b1-09c8-4a09-dbff-69175c27c6e0"
      },
      "execution_count": null,
      "outputs": [
        {
          "output_type": "stream",
          "name": "stdout",
          "text": [
            "OrderedDict([('weights', tensor([0.6999])), ('bias', tensor([0.3000]))])\n"
          ]
        },
        {
          "output_type": "stream",
          "name": "stderr",
          "text": [
            "<ipython-input-36-a39d5612e2c5>:2: FutureWarning: You are using `torch.load` with `weights_only=False` (the current default value), which uses the default pickle module implicitly. It is possible to construct malicious pickle data which will execute arbitrary code during unpickling (See https://github.com/pytorch/pytorch/blob/main/SECURITY.md#untrusted-models for more details). In a future release, the default value for `weights_only` will be flipped to `True`. This limits the functions that could be executed during unpickling. Arbitrary objects will no longer be allowed to be loaded via this mode unless they are explicitly allowlisted by the user via `torch.serialization.add_safe_globals`. We recommend you start setting `weights_only=True` for any use case where you don't have full control of the loaded file. Please open an issue on GitHub for any issues related to this experimental feature.\n",
            "  loaded_state_dict = torch.load('models/01_pytorch_workflow_model_0.pth')\n"
          ]
        },
        {
          "output_type": "execute_result",
          "data": {
            "text/plain": [
              "<All keys matched successfully>"
            ]
          },
          "metadata": {},
          "execution_count": 36
        }
      ]
    },
    {
      "cell_type": "code",
      "source": [
        "with torch.inference_mode():\n",
        "  #y_preds_yay = loaded_model(X_test)\n",
        "  print(loaded_model(X_test) == model_0(X_test))\n",
        "\n",
        "# plot_predictions(predictions=y_preds_yay)\n",
        "\n",
        "# list(model_0.parameters())"
      ],
      "metadata": {
        "colab": {
          "base_uri": "https://localhost:8080/"
        },
        "id": "8nfMNdm8yXy3",
        "outputId": "9149c9bb-e4bf-4183-c80b-511e1608a50c"
      },
      "execution_count": null,
      "outputs": [
        {
          "output_type": "stream",
          "name": "stdout",
          "text": [
            "tensor([[True],\n",
            "        [True],\n",
            "        [True],\n",
            "        [True],\n",
            "        [True],\n",
            "        [True],\n",
            "        [True],\n",
            "        [True],\n",
            "        [True],\n",
            "        [True]])\n"
          ]
        }
      ]
    },
    {
      "cell_type": "code",
      "source": [
        "plt.plot(parameter_0, label='Parameter 0')\n",
        "plt.plot(parameter_1, label='Parameter 1')\n",
        "plt.legend()\n",
        "plt.show()"
      ],
      "metadata": {
        "colab": {
          "base_uri": "https://localhost:8080/",
          "height": 430
        },
        "id": "BBPnEohu29vZ",
        "outputId": "338b8e6a-d8c4-4329-8900-7c70ed88cc2b"
      },
      "execution_count": null,
      "outputs": [
        {
          "output_type": "display_data",
          "data": {
            "text/plain": [
              "<Figure size 640x480 with 1 Axes>"
            ],
            "image/png": "[encoded data removed]"
          },
          "metadata": {}
        }
      ]
    },
    {
      "cell_type": "code",
      "source": [
        "plt.plot(losses, label=\"Loss\")\n",
        "plt.plot(test_losses, label=\"Test loss\")\n",
        "plt.legend()\n",
        "plt.show()"
      ],
      "metadata": {
        "colab": {
          "base_uri": "https://localhost:8080/",
          "height": 430
        },
        "id": "OP5OxmtF3B4A",
        "outputId": "9d31f02e-3680-45a8-87d5-d60120fad977"
      },
      "execution_count": null,
      "outputs": [
        {
          "output_type": "display_data",
          "data": {
            "text/plain": [
              "<Figure size 640x480 with 1 Axes>"
            ],
            "image/png": "[encoded data removed]"
          },
          "metadata": {}
        }
      ]
    },
    {
      "cell_type": "code",
      "source": [
        "model_0.state_dict()"
      ],
      "metadata": {
        "colab": {
          "base_uri": "https://localhost:8080/"
        },
        "id": "Na4gYTJZp5cM",
        "outputId": "fdb78ca0-3c5c-4b85-8ed2-216fd5bbbbe0"
      },
      "execution_count": null,
      "outputs": [
        {
          "output_type": "execute_result",
          "data": {
            "text/plain": [
              "OrderedDict([('weights', tensor([0.6999])), ('bias', tensor([0.3000]))])"
            ]
          },
          "metadata": {},
          "execution_count": 40
        }
      ]
    },
    {
      "cell_type": "code",
      "source": [
        "# Save the model hahahahaha\n",
        "from pathlib import Path\n",
        "import os\n",
        "print(os.getcwd())\n",
        "\n",
        "MODEL_PATH = Path(\"models\")\n",
        "MODEL_PATH.mkdir(parents=True, exist_ok=True)\n",
        "\n",
        "MODEL_NAME = \"01_pytorch_workflow_model_0.pth\"\n",
        "MODEL_SAVE_PATH = MODEL_PATH / MODEL_NAME\n",
        "\n",
        "print(MODEL_SAVE_PATH)\n",
        "print(f\"Saving model to: {MODEL_SAVE_PATH}\")\n",
        "torch.save(obj=model_0.state_dict(), f=MODEL_SAVE_PATH)"
      ],
      "metadata": {
        "colab": {
          "base_uri": "https://localhost:8080/"
        },
        "id": "a8vjoe3-95_L",
        "outputId": "6b8cbbfc-1511-4a14-fcba-e6b82f19c184"
      },
      "execution_count": null,
      "outputs": [
        {
          "output_type": "stream",
          "name": "stdout",
          "text": [
            "/content\n",
            "models/01_pytorch_workflow_model_0.pth\n",
            "Saving model to: models/01_pytorch_workflow_model_0.pth\n"
          ]
        }
      ]
    },
    {
      "cell_type": "code",
      "source": [],
      "metadata": {
        "id": "rF3HnIj46GIJ"
      },
      "execution_count": null,
      "outputs": []
    },
    {
      "cell_type": "markdown",
      "source": [
        "\n",
        "\n",
        "---\n",
        "\n",
        "\\"
      ],
      "metadata": {
        "id": "4RlCkPmvL970"
      }
    }
  ]
}